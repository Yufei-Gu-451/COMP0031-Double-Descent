{
 "cells": [
  {
   "cell_type": "code",
   "execution_count": 125,
   "metadata": {},
   "outputs": [],
   "source": [
    "from sklearn.linear_model import SGDClassifier\n",
    "from sklearn.linear_model import LinearRegression\n",
    "from sklearn.preprocessing import PolynomialFeatures\n",
    "from sklearn.model_selection import train_test_split\n",
    "import matplotlib.pyplot as plt\n",
    "import numpy as np\n",
    "import torch\n",
    "import torch.nn as nn\n",
    "from torch.utils.data import Dataset, DataLoader\n",
    "\n",
    "import sys\n",
    "sys.path.append('../.')\n",
    "import datasets"
   ]
  },
  {
   "cell_type": "code",
   "execution_count": 126,
   "metadata": {},
   "outputs": [
    {
     "name": "stdout",
     "output_type": "stream",
     "text": [
      "(200, 51)\n",
      "(200,)\n"
     ]
    }
   ],
   "source": [
    "sample_size = 200\n",
    "feature_dimension = 50\n",
    "# Sample wise double descent for linear model only affected by input Dimension, even if some of input is disturbance (useless) term\n",
    "used_feature = feature_dimension\n",
    "noise_level = 0\n",
    "bias = 0\n",
    "y_dimension = 1\n",
    "test_size = 0.5\n",
    "# set a random seed (int) if you want to the datasets to be fixed\n",
    "RAND_ST = None\n",
    "\n",
    "X, y = datasets.linear_regression_with_gaussian(sample_size=sample_size, feautre_size=feature_dimension, used_feature=used_feature, noise_level=noise_level, bias=bias, y_dimension=y_dimension, random_state=RAND_ST)\n",
    "X = np.column_stack((np.ones(sample_size), X))\n",
    "weight = np.random.random((X.shape[1], y_dimension))\n",
    "y = 1 / (1 + np.exp(-1 * X.dot(weight)))\n",
    "y[y >= 0.5] = 1\n",
    "y[y < 0.5] = 0\n",
    "y = y.reshape(sample_size)\n",
    "\n",
    "\n",
    "# For polynominal experiment\n",
    "# X = PolynomialFeatures(degree=2, include_bias=True, interaction_only=False).fit_transform(X)\n",
    "# weight = np.random.random((X.shape[1], y_dimension))\n",
    "# y = X.dot(weight)"
   ]
  },
  {
   "attachments": {},
   "cell_type": "markdown",
   "metadata": {},
   "source": [
    "Noiseless Data"
   ]
  },
  {
   "cell_type": "code",
   "execution_count": 127,
   "metadata": {},
   "outputs": [
    {
     "name": "stdout",
     "output_type": "stream",
     "text": [
      "Using device: cuda\n"
     ]
    }
   ],
   "source": [
    "# setting device on GPU if available, else CPU\n",
    "device = torch.device('cuda' if torch.cuda.is_available() else 'cpu')\n",
    "print('Using device:', device)"
   ]
  },
  {
   "cell_type": "code",
   "execution_count": 128,
   "metadata": {},
   "outputs": [],
   "source": [
    "class logistic_regression_dataset(Dataset):\n",
    "    def __init__(self, X, y):\n",
    "        self.X = torch.from_numpy(X).to(torch.float32).to(device)\n",
    "        self.y = torch.from_numpy(y).to(torch.float32).to(device)\n",
    "        \n",
    "    def __len__(self):\n",
    "        return self.X.shape[0]\n",
    "    \n",
    "    def __getitem__(self, idx):\n",
    "        x = self.X[idx]\n",
    "        y = self.y[idx]\n",
    "        \n",
    "        return x, y"
   ]
  },
  {
   "cell_type": "code",
   "execution_count": 129,
   "metadata": {},
   "outputs": [],
   "source": [
    "class logistic_regression(nn.Module):\n",
    "    def __init__(self):\n",
    "        super().__init__()\n",
    "        \n",
    "        self.linear = nn.Sequential(\n",
    "            nn.Linear(X.shape[1], y_dimension, bias=False),\n",
    "            nn.Sigmoid()\n",
    "        )\n",
    "        \n",
    "    def forward(self, x):\n",
    "        return self.linear(x)"
   ]
  },
  {
   "cell_type": "code",
   "execution_count": 130,
   "metadata": {},
   "outputs": [],
   "source": [
    "lr = 0.01\n",
    "max_epoch = 10\n",
    "\n",
    "X_train, X_test, y_train, y_test = train_test_split(X, y, test_size=test_size, random_state=RAND_ST, shuffle=True)\n",
    "train_dataset = logistic_regression_dataset(X_train, y_train)\n",
    "test_dataset = logistic_regression_dataset(X_test, y_test)\n",
    "train_loader = DataLoader(train_dataset, batch_size=1)\n",
    "test_loader = DataLoader(test_dataset, batch_size=1)"
   ]
  },
  {
   "cell_type": "code",
   "execution_count": 131,
   "metadata": {},
   "outputs": [],
   "source": [
    "def train_model():\n",
    "    # loss function type\n",
    "    loss_fn = nn.MSELoss()\n",
    "    # model\n",
    "    logistic_model = logistic_regression().to(device)\n",
    "    logistic_model# optimizer type\n",
    "    optimizer = torch.optim.SGD(logistic_model.parameters(), lr=lr)\n",
    "    \n",
    "    epochs = max_epoch\n",
    "    for epoch in range(epochs):\n",
    "        for x, y in train_loader:\n",
    "            optimizer.zero_grad()\n",
    "            loss_fn(logistic_model(x), y).backward()\n",
    "            optimizer.step()\n",
    "    \n",
    "    total_train_loss = 0\n",
    "    total_test_loss = 0\n",
    "    with torch.no_grad():\n",
    "        logistic_model.eval()\n",
    "        \n",
    "        for x, y in train_loader:\n",
    "            total_test_loss += loss_fn(logistic_model(x), y)\n",
    "        \n",
    "        for x, y in test_loader:\n",
    "            total_test_loss += loss_fn(logistic_model(x), y)\n",
    "    \n",
    "    train_loss = total_train_loss / len(train_loader)\n",
    "    test_loss = total_test_loss / len(test_loader)\n",
    "\n",
    "    return train_loss, test_loss"
   ]
  },
  {
   "cell_type": "code",
   "execution_count": 132,
   "metadata": {},
   "outputs": [
    {
     "data": {
      "image/png": "[encoded data removed]",
      "text/plain": [
       "<Figure size 432x288 with 1 Axes>"
      ]
     },
     "metadata": {
      "needs_background": "light"
     },
     "output_type": "display_data"
    }
   ],
   "source": [
    "train_losses = []\n",
    "test_losses = []\n",
    "\n",
    "samples = [sample for sample in range(1, int(sample_size/2), 1)]\n",
    "\n",
    "for sample in samples:\n",
    "    X_train, X_test, y_train, y_test = train_test_split(X, y, test_size=test_size, random_state=RAND_ST, shuffle=True)\n",
    "    train_dataset = logistic_regression_dataset(X_train[:sample], y_train[:sample])\n",
    "    test_dataset = logistic_regression_dataset(X_test, y_test)\n",
    "    train_loader = DataLoader(train_dataset, batch_size=1)\n",
    "    test_loader = DataLoader(test_dataset, batch_size=1)\n",
    "    \n",
    "    train_loss, test_loss = train_model()\n",
    "    train_losses.append(float(train_loss))\n",
    "    test_losses.append(float(test_loss))\n",
    "    \n",
    "    # print(float(train_loss))\n",
    "    # print(float(test_loss))\n",
    "    # print(sample)\n",
    "    # print()\n",
    "\n",
    "plt.xlabel(\"sample size\")\n",
    "plt.ylabel(\"loss (MSELoss)\")\n",
    "plt.plot(samples, train_losses, label = \"train loss\")\n",
    "plt.plot(samples, test_losses, label = \"test loss\")\n",
    "plt.legend()\n",
    "plt.show()"
   ]
  },
  {
   "attachments": {},
   "cell_type": "markdown",
   "metadata": {},
   "source": [
    "Noisy Data"
   ]
  },
  {
   "cell_type": "code",
   "execution_count": 133,
   "metadata": {},
   "outputs": [],
   "source": [
    "X = X + np.random.normal(0, 0.1, (sample_size, X.shape[1]))"
   ]
  },
  {
   "cell_type": "code",
   "execution_count": 134,
   "metadata": {},
   "outputs": [
    {
     "data": {
      "image/png": "[encoded data removed]",
      "text/plain": [
       "<Figure size 432x288 with 1 Axes>"
      ]
     },
     "metadata": {
      "needs_background": "light"
     },
     "output_type": "display_data"
    },
    {
     "ename": "",
     "evalue": "",
     "output_type": "error",
     "traceback": [
      "\u001b[1;31mThe Kernel crashed while executing code in the the current cell or a previous cell. Please review the code in the cell(s) to identify a possible cause of the failure. Click <a href='https://aka.ms/vscodeJupyterKernelCrash'>here</a> for more info. View Jupyter <a href='command:jupyter.viewOutput'>log</a> for further details."
     ]
    }
   ],
   "source": [
    "train_losses = []\n",
    "test_losses = []\n",
    "\n",
    "samples = [sample for sample in range(1, int(sample_size/2), 1)]\n",
    "\n",
    "for sample in samples:\n",
    "    X_train, X_test, y_train, y_test = train_test_split(X, y, test_size=test_size, random_state=RAND_ST, shuffle=True)\n",
    "    train_dataset = logistic_regression_dataset(X_train[:sample], y_train[:sample])\n",
    "    test_dataset = logistic_regression_dataset(X_test, y_test)\n",
    "    train_loader = DataLoader(train_dataset, batch_size=1)\n",
    "    test_loader = DataLoader(test_dataset, batch_size=1)\n",
    "    \n",
    "    train_loss, test_loss = train_model()\n",
    "    train_losses.append(float(train_loss))\n",
    "    test_losses.append(float(test_loss))\n",
    "    \n",
    "    # print(float(train_loss))\n",
    "    # print(float(test_loss))\n",
    "    # print(sample)\n",
    "    # print()\n",
    "\n",
    "plt.xlabel(\"sample size\")\n",
    "plt.ylabel(\"loss (MSELoss)\")\n",
    "plt.plot(samples, train_losses, label = \"train loss\")\n",
    "plt.plot(samples, test_losses, label = \"test loss\")\n",
    "plt.legend()\n",
    "plt.show()"
   ]
  }
 ],
 "metadata": {
  "kernelspec": {
   "display_name": "Python 3",
   "language": "python",
   "name": "python3"
  },
  "language_info": {
   "codemirror_mode": {
    "name": "ipython",
    "version": 3
   },
   "file_extension": ".py",
   "mimetype": "text/x-python",
   "name": "python",
   "nbconvert_exporter": "python",
   "pygments_lexer": "ipython3",
   "version": "3.8.6"
  },
  "orig_nbformat": 4,
  "vscode": {
   "interpreter": {
    "hash": "ea4fe9d80ece6dc73c94dd44d90b57cd8dabe7eb644381e8b91de1486f52c19d"
   }
  }
 },
 "nbformat": 4,
 "nbformat_minor": 2
}
