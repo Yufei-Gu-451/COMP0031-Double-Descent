{
 "cells": [
  {
   "cell_type": "code",
   "execution_count": 10,
   "id": "dff1c2ff",
   "metadata": {
    "pycharm": {
     "name": "#%%\n"
    }
   },
   "outputs": [],
   "source": [
    "from sklearn.datasets import make_regression\n",
    "from sklearn.model_selection import train_test_split\n",
    "import matplotlib.pyplot as plt\n",
    "import torch\n",
    "import torch.nn as nn\n",
    "from torch.utils.data import Dataset, DataLoader\n",
    "import numpy as np"
   ]
  },
  {
   "cell_type": "code",
   "execution_count": 11,
   "id": "fd1767f4",
   "metadata": {
    "pycharm": {
     "name": "#%%\n"
    }
   },
   "outputs": [
    {
     "name": "stdout",
     "output_type": "stream",
     "text": [
      "Using device: cuda\n"
     ]
    }
   ],
   "source": [
    "# setting device on GPU if available, else CPU\n",
    "device = torch.device('cuda' if torch.cuda.is_available() else 'cpu')\n",
    "print('Using device:', device)"
   ]
  },
  {
   "cell_type": "code",
   "execution_count": 12,
   "id": "de9d9943",
   "metadata": {
    "pycharm": {
     "name": "#%%\n"
    }
   },
   "outputs": [],
   "source": [
    "N_DIMS = 10\n",
    "RAND_ST = 42"
   ]
  },
  {
   "cell_type": "code",
   "execution_count": 13,
   "id": "57bef631",
   "metadata": {
    "pycharm": {
     "name": "#%%\n"
    },
    "scrolled": true
   },
   "outputs": [
    {
     "data": {
      "text/plain": [
       "<torch._C.Generator at 0x1efe5d9e8d0>"
      ]
     },
     "execution_count": 13,
     "metadata": {},
     "output_type": "execute_result"
    }
   ],
   "source": [
    "torch.manual_seed(RAND_ST)"
   ]
  },
  {
   "cell_type": "code",
   "execution_count": 14,
   "id": "80cab48a",
   "metadata": {},
   "outputs": [],
   "source": [
    "X, y = make_regression(n_samples=100000, n_features=N_DIMS, noise=40,random_state=RAND_ST)"
   ]
  },
  {
   "cell_type": "code",
   "execution_count": 15,
   "id": "95ba922a",
   "metadata": {},
   "outputs": [],
   "source": [
    "X_train, X_test, y_train, y_test = train_test_split(X,y,test_size=0.3, random_state=RAND_ST)"
   ]
  },
  {
   "cell_type": "code",
   "execution_count": 16,
   "id": "6abe3bf5",
   "metadata": {
    "pycharm": {
     "name": "#%%\n"
    }
   },
   "outputs": [],
   "source": [
    "class myDataSet(Dataset):\n",
    "    def __init__(self, X, y):\n",
    "        self.X = X\n",
    "        self.y = y\n",
    "        \n",
    "    def __len__(self):\n",
    "        return self.X.shape[0]\n",
    "    \n",
    "    def __getitem__(self, idx):\n",
    "        point = self.X[idx]\n",
    "        point = torch.from_numpy(np.asarray(point))\n",
    "        point = point.to(torch.float32)\n",
    "        point = torch.reshape(point, (-1,))\n",
    "        \n",
    "        label = self.y[idx]\n",
    "        label = torch.from_numpy(np.asarray(label))\n",
    "        label = label.to(torch.float32)\n",
    "        label = torch.reshape(label, (-1,))\n",
    "        \n",
    "        return point, label"
   ]
  },
  {
   "cell_type": "code",
   "execution_count": 17,
   "id": "77a89f41",
   "metadata": {
    "pycharm": {
     "name": "#%%\n"
    }
   },
   "outputs": [],
   "source": [
    "class MLP(nn.Module):\n",
    "    def __init__(self, hidden_neurons):\n",
    "        super().__init__()\n",
    "        self.n = hidden_neurons\n",
    "        \n",
    "        self.linear = nn.Sequential(\n",
    "            nn.Linear(N_DIMS, self.n),\n",
    "            nn.Linear(self.n,1)\n",
    "        )\n",
    "        \n",
    "    def forward(self, x):\n",
    "        return self.linear(x)"
   ]
  },
  {
   "cell_type": "code",
   "execution_count": 18,
   "id": "bc2ed91d",
   "metadata": {},
   "outputs": [],
   "source": [
    "train_dataset = myDataSet(X_train, y_train)\n",
    "test_dataset = myDataSet(X_test, y_test)\n",
    "\n",
    "train_loader = DataLoader(train_dataset, batch_size=1, num_workers=0)\n",
    "test_loader = DataLoader(test_dataset, batch_size=1, num_workers=0)"
   ]
  },
  {
   "cell_type": "code",
   "execution_count": 19,
   "id": "600f14b9",
   "metadata": {
    "pycharm": {
     "name": "#%%\n"
    },
    "scrolled": true
   },
   "outputs": [],
   "source": [
    "def train_model(neurons):\n",
    "    loss_fn = nn.MSELoss()\n",
    "    mlp = MLP(hidden_neurons=neurons)\n",
    "    mlp = mlp.to(device)\n",
    "    optimizer = torch.optim.Adam(mlp.parameters(), lr=0.01)\n",
    "\n",
    "    epochs = 10\n",
    "    for i in range(epochs):\n",
    "        for data in train_loader:\n",
    "            x, y = data\n",
    "            x = x.to(device)\n",
    "            y = y.to(device)\n",
    "            y_hat = mlp(x)\n",
    "            loss = loss_fn(y, y_hat)\n",
    "            optimizer.zero_grad()\n",
    "            loss.backward()\n",
    "            optimizer.step()\n",
    "\n",
    "    total_test_loss = 0\n",
    "    with torch.no_grad():\n",
    "        mlp.eval()\n",
    "        for data in test_loader:\n",
    "            inputs, outputs = data\n",
    "            inputs = inputs.to(device)\n",
    "            outputs = outputs.to(device)\n",
    "            predicted_outputs = mlp(inputs)\n",
    "            loss = loss_fn(predicted_outputs, outputs)\n",
    "            total_test_loss += loss\n",
    "\n",
    "    total_test_loss = total_test_loss / len(test_loader)\n",
    "\n",
    "    return total_test_loss"
   ]
  },
  {
   "cell_type": "code",
   "execution_count": 20,
   "id": "88483491",
   "metadata": {
    "pycharm": {
     "name": "#%%\n"
    },
    "scrolled": true
   },
   "outputs": [
    {
     "ename": "KeyboardInterrupt",
     "evalue": "",
     "output_type": "error",
     "traceback": [
      "\u001b[1;31m---------------------------------------------------------------------------\u001b[0m",
      "\u001b[1;31mKeyboardInterrupt\u001b[0m                         Traceback (most recent call last)",
      "Cell \u001b[1;32mIn [20], line 5\u001b[0m\n\u001b[0;32m      2\u001b[0m n_neurons \u001b[38;5;241m=\u001b[39m [i \u001b[38;5;28;01mfor\u001b[39;00m i \u001b[38;5;129;01min\u001b[39;00m \u001b[38;5;28mrange\u001b[39m(\u001b[38;5;241m1\u001b[39m, \u001b[38;5;241m20000\u001b[39m, \u001b[38;5;241m1000\u001b[39m)]\n\u001b[0;32m      4\u001b[0m \u001b[38;5;28;01mfor\u001b[39;00m n \u001b[38;5;129;01min\u001b[39;00m n_neurons:\n\u001b[1;32m----> 5\u001b[0m     l \u001b[38;5;241m=\u001b[39m \u001b[43mtrain_model\u001b[49m\u001b[43m(\u001b[49m\u001b[43mn\u001b[49m\u001b[43m)\u001b[49m\n\u001b[0;32m      6\u001b[0m     l \u001b[38;5;241m=\u001b[39m l\u001b[38;5;241m.\u001b[39mdetach()\u001b[38;5;241m.\u001b[39mcpu()\u001b[38;5;241m.\u001b[39msqueeze()\u001b[38;5;241m.\u001b[39mnumpy()\n\u001b[0;32m      7\u001b[0m     losses\u001b[38;5;241m.\u001b[39mappend(l)\n",
      "Cell \u001b[1;32mIn [19], line 11\u001b[0m, in \u001b[0;36mtrain_model\u001b[1;34m(neurons)\u001b[0m\n\u001b[0;32m      9\u001b[0m \u001b[38;5;28;01mfor\u001b[39;00m data \u001b[38;5;129;01min\u001b[39;00m train_loader:\n\u001b[0;32m     10\u001b[0m     x, y \u001b[38;5;241m=\u001b[39m data\n\u001b[1;32m---> 11\u001b[0m     x \u001b[38;5;241m=\u001b[39m \u001b[43mx\u001b[49m\u001b[38;5;241;43m.\u001b[39;49m\u001b[43mto\u001b[49m\u001b[43m(\u001b[49m\u001b[43mdevice\u001b[49m\u001b[43m)\u001b[49m\n\u001b[0;32m     12\u001b[0m     y \u001b[38;5;241m=\u001b[39m y\u001b[38;5;241m.\u001b[39mto(device)\n\u001b[0;32m     13\u001b[0m     y_hat \u001b[38;5;241m=\u001b[39m mlp(x)\n",
      "\u001b[1;31mKeyboardInterrupt\u001b[0m: "
     ]
    }
   ],
   "source": [
    "losses = []\n",
    "n_neurons = [i for i in range(1, 20000, 1000)]\n",
    "\n",
    "for n in n_neurons:\n",
    "    l = train_model(n)\n",
    "    l = l.detach().cpu().squeeze().numpy()\n",
    "    losses.append(l)\n",
    "    \n",
    "plt.xlabel(\"no. neurons in hidden layer\")\n",
    "plt.ylabel(\"test loss (MSELoss)\")\n",
    "plt.plot(n_neurons, losses)\n",
    "plt.show()"
   ]
  },
  {
   "cell_type": "code",
   "execution_count": null,
   "id": "e9da794c",
   "metadata": {},
   "outputs": [],
   "source": []
  }
 ],
 "metadata": {
  "kernelspec": {
   "display_name": "Python 3 (ipykernel)",
   "language": "python",
   "name": "python3"
  },
  "language_info": {
   "codemirror_mode": {
    "name": "ipython",
    "version": 3
   },
   "file_extension": ".py",
   "mimetype": "text/x-python",
   "name": "python",
   "nbconvert_exporter": "python",
   "pygments_lexer": "ipython3",
   "version": "3.10.8"
  }
 },
 "nbformat": 4,
 "nbformat_minor": 5
}
