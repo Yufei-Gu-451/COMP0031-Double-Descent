{
 "cells": [
  {
   "cell_type": "code",
   "execution_count": 1,
   "id": "dff1c2ff",
   "metadata": {
    "pycharm": {
     "name": "#%%\n"
    }
   },
   "outputs": [],
   "source": [
    "from sklearn.datasets import make_regression\n",
    "from sklearn.model_selection import train_test_split\n",
    "import matplotlib.pyplot as plt\n",
    "import torch\n",
    "import torch.nn as nn\n",
    "from torch.utils.data import Dataset, DataLoader\n",
    "import numpy as np"
   ]
  },
  {
   "cell_type": "code",
   "execution_count": 2,
   "id": "fd1767f4",
   "metadata": {
    "pycharm": {
     "name": "#%%\n"
    }
   },
   "outputs": [
    {
     "name": "stdout",
     "output_type": "stream",
     "text": [
      "Using device: cuda\n"
     ]
    }
   ],
   "source": [
    "# setting device on GPU if available, else CPU\n",
    "device = torch.device('cuda' if torch.cuda.is_available() else 'cpu')\n",
    "print('Using device:', device)"
   ]
  },
  {
   "cell_type": "code",
   "execution_count": 3,
   "id": "de9d9943",
   "metadata": {
    "pycharm": {
     "name": "#%%\n"
    }
   },
   "outputs": [],
   "source": [
    "RAND_ST = 42"
   ]
  },
  {
   "cell_type": "code",
   "execution_count": 4,
   "id": "57bef631",
   "metadata": {
    "pycharm": {
     "name": "#%%\n"
    },
    "scrolled": true
   },
   "outputs": [
    {
     "data": {
      "text/plain": [
       "<torch._C.Generator at 0x7fcbf2eef010>"
      ]
     },
     "execution_count": 4,
     "metadata": {},
     "output_type": "execute_result"
    }
   ],
   "source": [
    "torch.manual_seed(RAND_ST)"
   ]
  },
  {
   "cell_type": "code",
   "execution_count": 5,
   "id": "6abe3bf5",
   "metadata": {
    "pycharm": {
     "name": "#%%\n"
    }
   },
   "outputs": [],
   "source": [
    "class myDataSet(Dataset):\n",
    "    def __init__(self, X, y):\n",
    "        self.X = X\n",
    "        self.y = y\n",
    "        \n",
    "    def __len__(self):\n",
    "        return self.X.shape[0]\n",
    "    \n",
    "    def __getitem__(self, idx):\n",
    "        point = self.X[idx]\n",
    "        point = torch.from_numpy(np.asarray(point))\n",
    "        point = point.to(torch.float32)\n",
    "        point = torch.reshape(point, (-1,))\n",
    "        \n",
    "        label = self.y[idx]\n",
    "        label = torch.from_numpy(np.asarray(label))\n",
    "        label = label.to(torch.float32)\n",
    "        label = torch.reshape(label, (-1,))\n",
    "        \n",
    "        return point, label"
   ]
  },
  {
   "cell_type": "markdown",
   "id": "a9427926",
   "metadata": {
    "pycharm": {
     "name": "#%% md\n"
    }
   },
   "source": []
  },
  {
   "cell_type": "code",
   "execution_count": 6,
   "id": "77a89f41",
   "metadata": {
    "pycharm": {
     "name": "#%%\n"
    }
   },
   "outputs": [],
   "source": [
    "class MLP(nn.Module):\n",
    "    def __init__(self, dimensions):\n",
    "        super().__init__()\n",
    "        self.d = dimensions\n",
    "        \n",
    "        self.linear = nn.Sequential(\n",
    "            nn.Linear(self.d, 100),\n",
    "            nn.Linear(100,1)\n",
    "        )\n",
    "        \n",
    "    def forward(self, x):\n",
    "        return self.linear(x)\n"
   ]
  },
  {
   "cell_type": "code",
   "execution_count": 7,
   "id": "600f14b9",
   "metadata": {
    "pycharm": {
     "name": "#%%\n"
    },
    "scrolled": true
   },
   "outputs": [],
   "source": [
    "def train_model(dimension, sample_size):\n",
    "    \n",
    "    X, y = make_regression(n_samples=sample_size, n_features=dimension, noise=10,random_state=RAND_ST)\n",
    "    X_train, X_test, y_train, y_test = train_test_split(X,y,test_size=0.3, random_state=RAND_ST)\n",
    "    \n",
    "    train_dataset = myDataSet(X_train, y_train)\n",
    "    test_dataset = myDataSet(X_test, y_test)\n",
    "\n",
    "    train_loader = DataLoader(train_dataset, batch_size=1, num_workers=0)\n",
    "    test_loader = DataLoader(test_dataset, batch_size=1, num_workers=0)\n",
    "\n",
    "    loss_fn = nn.MSELoss()\n",
    "    mlp = MLP(dimensions=dimension)\n",
    "    mlp = mlp.to(device)\n",
    "    optimizer = torch.optim.Adam(mlp.parameters(), lr=1e-3, weight_decay=1e-5)\n",
    "\n",
    "    epochs = 10\n",
    "    for i in range(epochs):\n",
    "        for data in train_loader:\n",
    "            x, y = data\n",
    "            x = x.to(device)\n",
    "            y = y.to(device)\n",
    "            y_hat = mlp(x)\n",
    "            loss = loss_fn(y, y_hat)\n",
    "            optimizer.zero_grad()\n",
    "            loss.backward()\n",
    "            optimizer.step()\n",
    "\n",
    "    total_test_loss = 0\n",
    "    with torch.no_grad():\n",
    "        mlp.eval()\n",
    "        for data in test_loader:\n",
    "            inputs, outputs = data\n",
    "            inputs = inputs.to(device)\n",
    "            outputs = outputs.to(device)\n",
    "            predicted_outputs = mlp(inputs)\n",
    "            loss = loss_fn(predicted_outputs, outputs)\n",
    "            total_test_loss += loss\n",
    "\n",
    "    total_test_loss = total_test_loss / len(test_loader)\n",
    "\n",
    "    return total_test_loss"
   ]
  },
  {
   "cell_type": "code",
   "execution_count": null,
   "id": "88483491",
   "metadata": {
    "pycharm": {
     "name": "#%%\n"
    },
    "scrolled": true
   },
   "outputs": [],
   "source": [
    "#takes too long to run, keep charged and reduce neurons tested\n",
    "losses = []\n",
    "dimensions = [i for i in range(1, 500, 10)]\n",
    "\n",
    "for d in dimensions:\n",
    "    l = train_model(dimension=d, sample_size=200)\n",
    "    l = l.detach().cpu().squeeze().numpy()\n",
    "    losses.append(l)\n",
    "    \n",
    "plt.xlabel(\"no. neurons in hidden layer\")\n",
    "plt.ylabel(\"test loss (MSELoss)\")\n",
    "plt.plot(n_neurons, losses)\n",
    "plt.show()"
   ]
  }
 ],
 "metadata": {
  "kernelspec": {
   "display_name": "Python 3 (ipykernel)",
   "language": "python",
   "name": "python3"
  },
  "language_info": {
   "codemirror_mode": {
    "name": "ipython",
    "version": 3
   },
   "file_extension": ".py",
   "mimetype": "text/x-python",
   "name": "python",
   "nbconvert_exporter": "python",
   "pygments_lexer": "ipython3",
   "version": "3.10.9"
  }
 },
 "nbformat": 4,
 "nbformat_minor": 5
}
