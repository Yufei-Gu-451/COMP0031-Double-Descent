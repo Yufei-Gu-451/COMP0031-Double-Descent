{
 "cells": [
  {
   "cell_type": "code",
   "execution_count": 1,
   "id": "dff1c2ff",
   "metadata": {
    "pycharm": {
     "name": "#%%\n"
    }
   },
   "outputs": [],
   "source": [
    "from sklearn.datasets import make_regression\n",
    "from sklearn.model_selection import train_test_split\n",
    "import matplotlib.pyplot as plt\n",
    "import torch\n",
    "import torch.nn as nn\n",
    "from torch.utils.data import Dataset, DataLoader\n",
    "import numpy as np"
   ]
  },
  {
   "cell_type": "code",
   "execution_count": 2,
   "id": "fa152d2c",
   "metadata": {
    "pycharm": {
     "name": "#%%\n"
    }
   },
   "outputs": [
    {
     "name": "stdout",
     "output_type": "stream",
     "text": [
      "Using device: cpu\n"
     ]
    }
   ],
   "source": [
    "# setting device on GPU if available, else CPU\n",
    "device = torch.device('cuda' if torch.cuda.is_available() else 'cpu')\n",
    "print('Using device:', device)"
   ]
  },
  {
   "cell_type": "code",
   "execution_count": 3,
   "id": "6abe3bf5",
   "metadata": {
    "pycharm": {
     "name": "#%%\n"
    }
   },
   "outputs": [],
   "source": [
    "class myDataSet(Dataset):\n",
    "    def __init__(self, X, y):\n",
    "        self.X = X\n",
    "        self.y = y\n",
    "        \n",
    "    def __len__(self):\n",
    "        return self.X.shape[0]\n",
    "    \n",
    "    def __getitem__(self, idx):\n",
    "        point = self.X[idx]\n",
    "        point = torch.from_numpy(np.asarray(point))\n",
    "        point = point.to(torch.float32)\n",
    "        point = torch.reshape(point, (-1,))\n",
    "        \n",
    "        label = self.y[idx]\n",
    "        label = torch.from_numpy(np.asarray(label))\n",
    "        label = label.to(torch.float32)\n",
    "        label = torch.reshape(label, (-1,))\n",
    "        \n",
    "        return point, label"
   ]
  },
  {
   "cell_type": "code",
   "execution_count": 4,
   "id": "77a89f41",
   "metadata": {
    "pycharm": {
     "name": "#%%\n"
    }
   },
   "outputs": [],
   "source": [
    "class MLP(nn.Module):\n",
    "    def __init__(self, hidden_neurons, feature_size):\n",
    "        super().__init__()\n",
    "        self.n = hidden_neurons\n",
    "        \n",
    "        self.linear = nn.Sequential(\n",
    "            nn.Linear(feature_size, self.n),\n",
    "            nn.Linear(self.n,1)\n",
    "        )\n",
    "        \n",
    "    def forward(self, x):\n",
    "        return self.linear(x)"
   ]
  },
  {
   "cell_type": "code",
   "execution_count": 5,
   "id": "895d4064",
   "metadata": {
    "pycharm": {
     "name": "#%%\n"
    }
   },
   "outputs": [],
   "source": [
    "def data_loader(sample_size, feature_size):\n",
    "    X, y = make_regression(n_samples=sample_size, n_features=feature_size, bias=0, noise=10, random_state=42)\n",
    "    X_train, X_test, y_train, y_test = train_test_split(X, y, test_size=0.3, random_state=42)\n",
    "    \n",
    "    print(X_train.shape, y_train.shape)\n",
    "    print(X_test.shape, y_test.shape)\n",
    "    \n",
    "    torch.manual_seed(42)\n",
    "\n",
    "    train_dataset = myDataSet(X_train, y_train)\n",
    "    test_dataset = myDataSet(X_test, y_test)\n",
    "\n",
    "    train_loader = DataLoader(train_dataset, batch_size=1, num_workers=0)\n",
    "    test_loader = DataLoader(test_dataset, batch_size=1, num_workers=0)\n",
    "    \n",
    "    return (train_loader, test_loader)"
   ]
  },
  {
   "cell_type": "code",
   "execution_count": 51,
   "id": "354f5e95",
   "metadata": {},
   "outputs": [],
   "source": [
    "import random\n",
    "\n",
    "def data_loader_2(sample_size, feature_size):\n",
    "    X_list = []\n",
    "    y_list = []\n",
    "    y_list_2 = []\n",
    "\n",
    "    for i in range(sample_size):\n",
    "        x = i / 10 - sample_size / 20\n",
    "        X_list.append(x)\n",
    "        rd = 0\n",
    "        if (random.random() <= 0.3):\n",
    "            rd = 10 * random.random()\n",
    "        elif (0.3 < random.random() <= 0.6):\n",
    "            rd = - 10 * random.random()\n",
    "\n",
    "        y_list.append(x**3 - 2*x**2 + 4*x + rd)\n",
    "        y_list_2.append(x**3 - 2*x**2 + 4*x)\n",
    "        \n",
    "    plt.xlabel(\"X\")\n",
    "    plt.ylabel(\"y\")\n",
    "    plt.plot(X_list, y_list)\n",
    "    plt.show()\n",
    "        \n",
    "    X = np.expand_dims(X_list, -1)\n",
    "    y = np.expand_dims(y_list, -1)\n",
    "    y_2 = np.expand_dims(y_list_2, -1)\n",
    "    \n",
    "    X_train, X_test, y_train, y_test = train_test_split(X, y, test_size=0.5, random_state=42)\n",
    "\n",
    "    train_dataset = myDataSet(X_train, y_train)\n",
    "    test_dataset = myDataSet(X_test, y_test)\n",
    "\n",
    "    #train_dataset = myDataSet(X, y)\n",
    "    #test_dataset = myDataSet(X, y_2)\n",
    "\n",
    "    train_loader = DataLoader(train_dataset, batch_size=1, num_workers=0)\n",
    "    test_loader = DataLoader(test_dataset, batch_size=1, num_workers=0)\n",
    "    \n",
    "    return (train_loader, test_loader)"
   ]
  },
  {
   "cell_type": "code",
   "execution_count": 52,
   "id": "600f14b9",
   "metadata": {
    "pycharm": {
     "name": "#%%\n"
    },
    "scrolled": true
   },
   "outputs": [],
   "source": [
    "import sys\n",
    "\n",
    "def train_model(train_loader, test_loader, neuron_size, feature_size):\n",
    "    loss_fn = nn.MSELoss()\n",
    "    mlp = MLP(hidden_neurons=neuron_size, feature_size=feature_size)\n",
    "    mlp = mlp.to(device)\n",
    "    optimizer = torch.optim.Adam(mlp.parameters(), lr=1e-3, weight_decay=1e-5)\n",
    "    \n",
    "    last_train_loss = sys.maxsize\n",
    "    current_train_loss = sys.maxsize - 10\n",
    "    \n",
    "    while last_train_loss - current_train_loss > 1:\n",
    "        #print(\"Train Loss : \", current_train_loss)\n",
    "        \n",
    "        for data in train_loader:\n",
    "            x, y = data\n",
    "            x = x.to(device)\n",
    "            y = y.to(device)\n",
    "            y_hat = mlp(x)\n",
    "            loss = loss_fn(y, y_hat)\n",
    "            optimizer.zero_grad()\n",
    "            loss.backward()\n",
    "            optimizer.step()\n",
    "        \n",
    "        last_train_loss, current_train_loss = current_train_loss, 0\n",
    "        \n",
    "        with torch.no_grad():\n",
    "            mlp.eval()\n",
    "            for data in train_loader:\n",
    "                inputs, outputs = data\n",
    "                inputs = inputs.to(device)\n",
    "                outputs = outputs.to(device)\n",
    "                predicted_outputs = mlp(inputs)\n",
    "                loss = loss_fn(predicted_outputs, outputs)\n",
    "                current_train_loss += loss\n",
    "        \n",
    "        current_train_loss /= len(train_loader)\n",
    "        \n",
    "        \n",
    "    total_test_loss = 0\n",
    "    with torch.no_grad():\n",
    "        mlp.eval()\n",
    "        for data in test_loader:\n",
    "            inputs, outputs = data\n",
    "            inputs = inputs.to(device)\n",
    "            outputs = outputs.to(device)\n",
    "            predicted_outputs = mlp(inputs)\n",
    "            loss = loss_fn(predicted_outputs, outputs)\n",
    "            total_test_loss += loss\n",
    "    total_test_loss = total_test_loss / len(test_loader)\n",
    "\n",
    "    return total_test_loss.detach().cpu().squeeze().numpy()"
   ]
  },
  {
   "cell_type": "code",
   "execution_count": 53,
   "id": "b3827a73",
   "metadata": {},
   "outputs": [],
   "source": [
    "def train_model_fix(train_loader, test_loader, neuron_size, feature_size):\n",
    "    loss_fn = nn.MSELoss()\n",
    "    mlp = MLP(hidden_neurons=neuron_size, feature_size=feature_size)\n",
    "    mlp = mlp.to(device)\n",
    "    optimizer = torch.optim.Adam(mlp.parameters(), lr=1e-3, weight_decay=1e-5)\n",
    "    epoch = 20\n",
    "    \n",
    "    for i in range(epoch):\n",
    "        for data in train_loader:\n",
    "            x, y = data\n",
    "            x = x.to(device)\n",
    "            y = y.to(device)\n",
    "            y_hat = mlp(x)\n",
    "            loss = loss_fn(y, y_hat)\n",
    "            optimizer.zero_grad()\n",
    "            loss.backward()\n",
    "            optimizer.step()\n",
    "\n",
    "    total_test_loss = 0\n",
    "    with torch.no_grad():\n",
    "        mlp.eval()\n",
    "        for data in test_loader:\n",
    "            inputs, outputs = data\n",
    "            inputs = inputs.to(device)\n",
    "            outputs = outputs.to(device)\n",
    "            predicted_outputs = mlp(inputs)\n",
    "            loss = loss_fn(predicted_outputs, outputs)\n",
    "            total_test_loss += loss\n",
    "    total_test_loss = total_test_loss / len(test_loader)\n",
    "\n",
    "    return total_test_loss.detach().cpu().squeeze().numpy()"
   ]
  },
  {
   "cell_type": "code",
   "execution_count": 54,
   "id": "0e1f28df",
   "metadata": {
    "scrolled": false
   },
   "outputs": [
    {
     "data": {
      "image/png": "[encoded data removed]",
      "text/plain": [
       "<Figure size 640x480 with 1 Axes>"
      ]
     },
     "metadata": {},
     "output_type": "display_data"
    },
    {
     "name": "stdout",
     "output_type": "stream",
     "text": [
      "Neuron Size :  1  ; Test Loss :  156.43399\n",
      "Neuron Size :  2  ; Test Loss :  135.20938\n",
      "Neuron Size :  3  ; Test Loss :  33.262943\n",
      "Neuron Size :  4  ; Test Loss :  33.04334\n",
      "Neuron Size :  5  ; Test Loss :  32.45558\n",
      "Neuron Size :  6  ; Test Loss :  32.88987\n",
      "Neuron Size :  7  ; Test Loss :  32.81405\n",
      "Neuron Size :  8  ; Test Loss :  32.86301\n",
      "Neuron Size :  9  ; Test Loss :  35.325783\n",
      "Neuron Size :  10  ; Test Loss :  35.652615\n",
      "Neuron Size :  11  ; Test Loss :  32.57553\n",
      "Neuron Size :  12  ; Test Loss :  33.54107\n",
      "Neuron Size :  13  ; Test Loss :  34.87471\n",
      "Neuron Size :  14  ; Test Loss :  34.172325\n",
      "Neuron Size :  15  ; Test Loss :  32.906067\n",
      "Neuron Size :  16  ; Test Loss :  35.80273\n",
      "Neuron Size :  17  ; Test Loss :  33.27062\n",
      "Neuron Size :  18  ; Test Loss :  33.681667\n",
      "Neuron Size :  19  ; Test Loss :  33.00896\n",
      "Neuron Size :  20  ; Test Loss :  34.887054\n",
      "Neuron Size :  21  ; Test Loss :  35.637997\n",
      "Neuron Size :  22  ; Test Loss :  34.25808\n",
      "Neuron Size :  23  ; Test Loss :  33.439903\n",
      "Neuron Size :  24  ; Test Loss :  35.01094\n",
      "Neuron Size :  25  ; Test Loss :  35.29304\n",
      "Neuron Size :  26  ; Test Loss :  33.95443\n",
      "Neuron Size :  27  ; Test Loss :  33.93491\n",
      "Neuron Size :  28  ; Test Loss :  35.417896\n",
      "Neuron Size :  29  ; Test Loss :  34.166916\n",
      "Neuron Size :  30  ; Test Loss :  36.156338\n",
      "Neuron Size :  31  ; Test Loss :  36.55774\n",
      "Neuron Size :  32  ; Test Loss :  38.30353\n",
      "Neuron Size :  33  ; Test Loss :  35.653484\n",
      "Neuron Size :  34  ; Test Loss :  35.4203\n",
      "Neuron Size :  35  ; Test Loss :  36.491077\n",
      "Neuron Size :  36  ; Test Loss :  34.37323\n",
      "Neuron Size :  37  ; Test Loss :  35.133007\n",
      "Neuron Size :  38  ; Test Loss :  37.08087\n",
      "Neuron Size :  39  ; Test Loss :  36.77775\n",
      "Neuron Size :  40  ; Test Loss :  36.914345\n",
      "Neuron Size :  41  ; Test Loss :  35.42196\n",
      "Neuron Size :  42  ; Test Loss :  38.318363\n",
      "Neuron Size :  43  ; Test Loss :  36.144962\n",
      "Neuron Size :  44  ; Test Loss :  37.60331\n",
      "Neuron Size :  45  ; Test Loss :  37.765614\n",
      "Neuron Size :  46  ; Test Loss :  37.069275\n",
      "Neuron Size :  47  ; Test Loss :  37.312706\n",
      "Neuron Size :  48  ; Test Loss :  36.917892\n",
      "Neuron Size :  49  ; Test Loss :  37.020973\n",
      "Neuron Size :  50  ; Test Loss :  38.050583\n",
      "Neuron Size :  51  ; Test Loss :  37.721317\n",
      "Neuron Size :  52  ; Test Loss :  37.06696\n",
      "Neuron Size :  53  ; Test Loss :  36.89107\n",
      "Neuron Size :  54  ; Test Loss :  36.735973\n",
      "Neuron Size :  55  ; Test Loss :  36.888493\n",
      "Neuron Size :  56  ; Test Loss :  39.129387\n",
      "Neuron Size :  57  ; Test Loss :  36.132187\n",
      "Neuron Size :  58  ; Test Loss :  38.40212\n",
      "Neuron Size :  59  ; Test Loss :  38.64959\n"
     ]
    },
    {
     "data": {
      "image/png": "[encoded data removed]",
      "text/plain": [
       "<Figure size 640x480 with 1 Axes>"
      ]
     },
     "metadata": {},
     "output_type": "display_data"
    }
   ],
   "source": [
    "losses = []\n",
    "n_neurons = [i for i in range(1, 60, 1)]\n",
    "train_loader, test_loader = data_loader_2(50, 1)\n",
    "\n",
    "for n in n_neurons:\n",
    "    l = train_model(train_loader, test_loader, n, 1)\n",
    "    print(\"Neuron Size : \", n, \" ; Test Loss : \", l)\n",
    "    losses.append(l)\n",
    "    \n",
    "plt.xlabel(\"Feature size\")\n",
    "plt.ylabel(\"Test loss (MSELoss)\")\n",
    "plt.plot(n_neurons, losses)\n",
    "plt.show()"
   ]
  },
  {
   "cell_type": "code",
   "execution_count": null,
   "id": "88483491",
   "metadata": {
    "pycharm": {
     "name": "#%%\n"
    },
    "scrolled": false
   },
   "outputs": [],
   "source": [
    "losses = []\n",
    "n_neurons = [i for i in range(5, 400, 5)]\n",
    "n_sample = [i for i in range(50, 280, 10)]\n",
    "\n",
    "for n in n_sample:\n",
    "    train_loader, test_loader = data_loader(sample_size=n, feature_size=100)\n",
    "    l = train_model(train_loader, test_loader, n, 100)\n",
    "    print(\"Sample Size : \", n, \" ; Test Loss : \", l)\n",
    "    losses.append(l)\n",
    "    \n",
    "plt.xlabel(\"Sample size\")\n",
    "plt.ylabel(\"Test loss (MSELoss)\")\n",
    "plt.plot(n_sample, losses)\n",
    "plt.show()"
   ]
  },
  {
   "cell_type": "code",
   "execution_count": null,
   "id": "5f03d295",
   "metadata": {
    "pycharm": {
     "name": "#%%\n"
    }
   },
   "outputs": [],
   "source": [
    "losses = []\n",
    "n_feature = [i for i in range(1, 200, 10)]\n",
    "\n",
    "for n in n_feature:\n",
    "    train_loader, test_loader = data_loader(sample_size=100, feature_size=n)\n",
    "    l = train_model(1, train_loader, test_loader, feature_size=n)\n",
    "    print(\"Feature Size : \", n, \" ; Test Loss : \", l)\n",
    "    losses.append(l)\n",
    "    \n",
    "plt.xlabel(\"Feature size\")\n",
    "plt.ylabel(\"Test loss (MSELoss)\")\n",
    "plt.plot(n_feature, losses)\n",
    "plt.show()"
   ]
  },
  {
   "cell_type": "code",
   "execution_count": null,
   "id": "0ea1ea52",
   "metadata": {},
   "outputs": [],
   "source": []
  }
 ],
 "metadata": {
  "kernelspec": {
   "display_name": "Python 3 (ipykernel)",
   "language": "python",
   "name": "python3"
  },
  "language_info": {
   "codemirror_mode": {
    "name": "ipython",
    "version": 3
   },
   "file_extension": ".py",
   "mimetype": "text/x-python",
   "name": "python",
   "nbconvert_exporter": "python",
   "pygments_lexer": "ipython3",
   "version": "3.8.13"
  }
 },
 "nbformat": 4,
 "nbformat_minor": 5
}
