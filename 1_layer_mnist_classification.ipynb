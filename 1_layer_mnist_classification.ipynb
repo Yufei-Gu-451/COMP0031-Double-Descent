{
 "cells": [
  {
   "cell_type": "code",
   "execution_count": 1,
   "id": "03167983",
   "metadata": {},
   "outputs": [],
   "source": [
    "import torchvision.datasets as datasets\n",
    "import torch\n",
    "import torch.nn as nn\n",
    "import torchvision.transforms as transforms\n",
    "import matplotlib.pyplot as plt\n",
    "from torch.utils.data import Subset\n",
    "import numpy as np"
   ]
  },
  {
   "cell_type": "code",
   "execution_count": 2,
   "id": "240b8948",
   "metadata": {},
   "outputs": [
    {
     "name": "stdout",
     "output_type": "stream",
     "text": [
      "Using device: cpu\n"
     ]
    }
   ],
   "source": [
    "# setting device on GPU if available, else CPU\n",
    "device = torch.device('cuda' if torch.cuda.is_available() else 'cpu')\n",
    "print('Using device:', device)"
   ]
  },
  {
   "cell_type": "code",
   "execution_count": 3,
   "id": "0fd4f97a",
   "metadata": {},
   "outputs": [],
   "source": [
    "transform_train = transforms.Compose([\n",
    "    transforms.ToTensor(),\n",
    "])\n",
    "\n",
    "transform_test = transforms.Compose([\n",
    "    transforms.ToTensor(),\n",
    "])\n",
    "\n",
    "trainset = datasets.MNIST(root='./data', train=True, download=True, transform=transform_train)\n",
    "trainset = torch.utils.data.Subset(trainset, indices=np.arange(400))\n",
    "trainloader = torch.utils.data.DataLoader(\n",
    "    trainset, batch_size=128, shuffle=True, num_workers=2)\n",
    "\n",
    "testset = datasets.MNIST(\n",
    "    root='./data', train=False, download=True, transform=transform_test)\n",
    "testloader = torch.utils.data.DataLoader(\n",
    "    testset, batch_size=100, shuffle=False, num_workers=2)"
   ]
  },
  {
   "cell_type": "code",
   "execution_count": 4,
   "id": "5f942de6",
   "metadata": {},
   "outputs": [],
   "source": [
    "class Net(torch.nn.Module):\n",
    "    def __init__(self, hidden_units):\n",
    "        super(Net, self).__init__()\n",
    "        self.layer1 = torch.nn.Linear(28*28, hidden_units)\n",
    "        self.layer2 = torch.nn.Linear(hidden_units, 10)\n",
    "        \n",
    "    def forward(self, x):\n",
    "        x = x.reshape(-1, 28*28)\n",
    "        x = torch.relu(self.layer1(x))\n",
    "        x = torch.sigmoid(self.layer2(x))\n",
    "        return x"
   ]
  },
  {
   "cell_type": "code",
   "execution_count": 5,
   "id": "2781308e",
   "metadata": {},
   "outputs": [],
   "source": [
    "def train_and_evaluate_model(model, hidden_units, optimizer, criterion):\n",
    "    model = model.to(device)\n",
    "    for epoch in range(600):\n",
    "        train_loss = 0.0\n",
    "        model.train()\n",
    "        for data in trainloader:\n",
    "            inputs, labels = data\n",
    "            inputs = inputs.to(device)\n",
    "            labels = labels.to(device)\n",
    "            optimizer.zero_grad()\n",
    "            outputs = model(inputs)\n",
    "            loss = criterion(outputs, labels)\n",
    "            loss.backward()\n",
    "            optimizer.step()\n",
    "            train_loss += loss.item()\n",
    "        train_loss = train_loss / len(trainloader)\n",
    "        \n",
    "    \n",
    "    model.eval()\n",
    "    test_loss = 0.0\n",
    "    with torch.no_grad():\n",
    "        for inputs, labels in testloader:\n",
    "            inputs = inputs.to(device)\n",
    "            labels = labels.to(device)\n",
    "            outputs = model(inputs)\n",
    "            loss = criterion(outputs, labels)\n",
    "            test_loss += loss.item()\n",
    "    test_loss = test_loss / len(testloader)\n",
    "    return train_loss, test_loss"
   ]
  },
  {
   "cell_type": "code",
   "execution_count": null,
   "id": "35931d74",
   "metadata": {},
   "outputs": [],
   "source": [
    "hidden_units_list = [i for i in range(1, 10)]\n",
    "train_losses = []\n",
    "test_losses = []\n",
    "for hidden_units in hidden_units_list:\n",
    "    model = Net(hidden_units)\n",
    "    optimizer = torch.optim.SGD(model.parameters(), lr=0.1, momentum=0.95)\n",
    "    criterion = torch.nn.CrossEntropyLoss()\n",
    "    train_loss, test_loss = train_and_evaluate_model(model, hidden_units, optimizer, criterion)\n",
    "    train_losses.append(train_loss)\n",
    "    test_losses.append(test_loss)\n",
    "plt.plot(hidden_units_list, train_losses, marker='o', label='train')\n",
    "plt.plot(hidden_units_list, test_losses, marker='o', label='test')\n",
    "plt.xlabel('Hidden units')\n",
    "plt.ylabel('cross entropy test loss')\n",
    "plt.title('Double Descent Curve')\n",
    "plt.legend()\n",
    "plt.show()"
   ]
  }
 ],
 "metadata": {
  "kernelspec": {
   "display_name": "Python 3 (ipykernel)",
   "language": "python",
   "name": "python3"
  },
  "language_info": {
   "codemirror_mode": {
    "name": "ipython",
    "version": 3
   },
   "file_extension": ".py",
   "mimetype": "text/x-python",
   "name": "python",
   "nbconvert_exporter": "python",
   "pygments_lexer": "ipython3",
   "version": "3.10.9"
  }
 },
 "nbformat": 4,
 "nbformat_minor": 5
}
