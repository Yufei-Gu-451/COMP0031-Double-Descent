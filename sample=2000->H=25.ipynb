{
 "cells": [
  {
   "cell_type": "code",
   "execution_count": 1,
   "id": "bf9474bf",
   "metadata": {},
   "outputs": [],
   "source": [
    "'''Train MNIST with PyTorch.'''\n",
    "import torch\n",
    "import torch.nn as nn\n",
    "import torch.optim as optim\n",
    "import torch.nn.functional as F\n",
    "import torch.backends.cudnn as cudnn\n",
    "\n",
    "import torchvision\n",
    "import torchvision.transforms as transforms\n",
    "\n",
    "import os\n",
    "import re\n",
    "import argparse\n",
    "import numpy as np\n",
    "\n",
    "import matplotlib.pyplot as plt"
   ]
  },
  {
   "cell_type": "code",
   "execution_count": 2,
   "id": "1b9bd1ab",
   "metadata": {},
   "outputs": [],
   "source": [
    "directory = \"assets/3\"\n",
    "log_path = os.path.join(directory, \"log\")\n",
    "checkpoint_path = os.path.join(directory, \"ckpt\")\n",
    "data_path = os.path.join(directory, \"data\")"
   ]
  },
  {
   "cell_type": "code",
   "execution_count": 3,
   "id": "50e7234e",
   "metadata": {},
   "outputs": [],
   "source": [
    "if not os.path.isdir(directory):\n",
    "    os.mkdir(directory)\n",
    "if not os.path.isdir(log_path):\n",
    "    os.mkdir(log_path)\n",
    "if not os.path.isdir(checkpoint_path):\n",
    "    os.mkdir(checkpoint_path)\n",
    "if not os.path.isdir(data_path):\n",
    "    os.mkdir(data_path)"
   ]
  },
  {
   "cell_type": "code",
   "execution_count": 4,
   "id": "cfa115da",
   "metadata": {},
   "outputs": [],
   "source": [
    "class simple_FC(nn.Module):\n",
    "    def __init__(self, n_hidden):\n",
    "        super(simple_FC, self).__init__()\n",
    "        self.features = nn.Sequential(\n",
    "            nn.Flatten(),\n",
    "            nn.Linear(784, n_hidden),\n",
    "            nn.ReLU()\n",
    "        )\n",
    "        self.classifier = nn.Linear(n_hidden, 10)\n",
    "    def forward(self, x):\n",
    "        out = self.features(x)\n",
    "        out = out.view(out.size(0), -1)\n",
    "        out = self.classifier(out)\n",
    "        return out"
   ]
  },
  {
   "cell_type": "code",
   "execution_count": 5,
   "id": "0bb0f1c4",
   "metadata": {},
   "outputs": [],
   "source": [
    "def train(epoch, net):\n",
    "    net.train()\n",
    "    train_loss = 0\n",
    "    correct = 0\n",
    "    total = 0\n",
    "    for batch_idx, (inputs, targets) in enumerate(trainloader):\n",
    "        targets = torch.nn.functional.one_hot(targets, num_classes=10).float()\n",
    "        inputs, targets = inputs.to(device), targets.to(device)\n",
    "        optimizer.zero_grad()\n",
    "        outputs = net(inputs)\n",
    "        loss = criterion(outputs, targets)\n",
    "        loss.backward()\n",
    "        optimizer.step()\n",
    "        train_loss += loss.item()\n",
    "        _, predicted = outputs.max(1)\n",
    "        total += targets.size(0)\n",
    "        correct += predicted.eq(targets.argmax(1)).sum().item()\n",
    "    return 100.*correct/total, train_loss/(batch_idx+1)\n",
    "\n",
    "\n",
    "def test(epoch, net, model_name, save_checkpoint=False):\n",
    "    global best_acc\n",
    "    net.eval()\n",
    "    test_loss = 0\n",
    "    correct = 0\n",
    "    total = 0\n",
    "    with torch.no_grad():\n",
    "        for batch_idx, (inputs, targets) in enumerate(testloader):\n",
    "            targets = torch.nn.functional.one_hot(targets, num_classes=10).float()\n",
    "            inputs, targets = inputs.to(device), targets.to(device)\n",
    "            outputs = net(inputs)\n",
    "            loss = criterion(outputs, targets)\n",
    "            test_loss += loss.item()\n",
    "            _, predicted = outputs.max(1)\n",
    "            total += targets.size(0)\n",
    "            correct += predicted.eq(targets.argmax(1)).sum().item()\n",
    "    acc = 100.*correct/total\n",
    "    if save_checkpoint:\n",
    "        print('Saving..')\n",
    "        state = {\n",
    "            'net': net.state_dict(),\n",
    "            'acc': acc,\n",
    "            'epoch': epoch,\n",
    "        }\n",
    "        torch.save(state, os.path.join(checkpoint_path, '%s.pth'%model_name))\n",
    "        best_acc = acc\n",
    "    return 100.*correct/total, test_loss/(batch_idx+1)\n"
   ]
  },
  {
   "cell_type": "code",
   "execution_count": 6,
   "id": "66ac8882",
   "metadata": {
    "scrolled": true
   },
   "outputs": [
    {
     "name": "stdout",
     "output_type": "stream",
     "text": [
      "==> Preparing data..\n",
      "Downloading http://yann.lecun.com/exdb/mnist/train-images-idx3-ubyte.gz\n",
      "Downloading http://yann.lecun.com/exdb/mnist/train-images-idx3-ubyte.gz to assets/3/data/MNIST/raw/train-images-idx3-ubyte.gz\n"
     ]
    },
    {
     "data": {
      "application/vnd.jupyter.widget-view+json": {
       "model_id": "505e454cc99f4812ab54b5b37ae5b55d",
       "version_major": 2,
       "version_minor": 0
      },
      "text/plain": [
       "  0%|          | 0/9912422 [00:00<?, ?it/s]"
      ]
     },
     "metadata": {},
     "output_type": "display_data"
    },
    {
     "name": "stdout",
     "output_type": "stream",
     "text": [
      "Extracting assets/3/data/MNIST/raw/train-images-idx3-ubyte.gz to assets/3/data/MNIST/raw\n",
      "\n",
      "Downloading http://yann.lecun.com/exdb/mnist/train-labels-idx1-ubyte.gz\n",
      "Downloading http://yann.lecun.com/exdb/mnist/train-labels-idx1-ubyte.gz to assets/3/data/MNIST/raw/train-labels-idx1-ubyte.gz\n"
     ]
    },
    {
     "data": {
      "application/vnd.jupyter.widget-view+json": {
       "model_id": "1bdc42c8490c435ca5571088ad97fba5",
       "version_major": 2,
       "version_minor": 0
      },
      "text/plain": [
       "  0%|          | 0/28881 [00:00<?, ?it/s]"
      ]
     },
     "metadata": {},
     "output_type": "display_data"
    },
    {
     "name": "stdout",
     "output_type": "stream",
     "text": [
      "Extracting assets/3/data/MNIST/raw/train-labels-idx1-ubyte.gz to assets/3/data/MNIST/raw\n",
      "\n",
      "Downloading http://yann.lecun.com/exdb/mnist/t10k-images-idx3-ubyte.gz\n",
      "Downloading http://yann.lecun.com/exdb/mnist/t10k-images-idx3-ubyte.gz to assets/3/data/MNIST/raw/t10k-images-idx3-ubyte.gz\n"
     ]
    },
    {
     "data": {
      "application/vnd.jupyter.widget-view+json": {
       "model_id": "39bb2863e4944881ab6c74ca90596f28",
       "version_major": 2,
       "version_minor": 0
      },
      "text/plain": [
       "  0%|          | 0/1648877 [00:00<?, ?it/s]"
      ]
     },
     "metadata": {},
     "output_type": "display_data"
    },
    {
     "name": "stdout",
     "output_type": "stream",
     "text": [
      "Extracting assets/3/data/MNIST/raw/t10k-images-idx3-ubyte.gz to assets/3/data/MNIST/raw\n",
      "\n",
      "Downloading http://yann.lecun.com/exdb/mnist/t10k-labels-idx1-ubyte.gz\n",
      "Downloading http://yann.lecun.com/exdb/mnist/t10k-labels-idx1-ubyte.gz to assets/3/data/MNIST/raw/t10k-labels-idx1-ubyte.gz\n"
     ]
    },
    {
     "data": {
      "application/vnd.jupyter.widget-view+json": {
       "model_id": "31a71342373046228297779f4099a2cb",
       "version_major": 2,
       "version_minor": 0
      },
      "text/plain": [
       "  0%|          | 0/4542 [00:00<?, ?it/s]"
      ]
     },
     "metadata": {},
     "output_type": "display_data"
    },
    {
     "name": "stdout",
     "output_type": "stream",
     "text": [
      "Extracting assets/3/data/MNIST/raw/t10k-labels-idx1-ubyte.gz to assets/3/data/MNIST/raw\n",
      "\n",
      "Number of parameters: 805\n",
      "Saving..\n",
      "classification error reaches 0, stop training\n",
      "Training Loss: 0.079 | Acc: 22.050%\n",
      "Test Loss: 0.080 | Acc: 21.210%\n",
      "\n",
      "Number of parameters: 4780\n",
      "use previous checkpoints to initialize the weights\n",
      "loading from simple_FC_5.pth\n",
      "loading from simple_FC_4.pth\n",
      "loading from simple_FC_3.pth\n",
      "loading from simple_FC_2.pth\n",
      "Saving..\n",
      "classification error reaches 0, stop training\n",
      "Training Loss: 0.036 | Acc: 70.250%\n",
      "Test Loss: 0.046 | Acc: 64.910%\n",
      "\n",
      "Number of parameters: 8755\n",
      "use previous checkpoints to initialize the weights\n",
      "loading from simple_FC_10.pth\n",
      "loading from simple_FC_9.pth\n",
      "loading from simple_FC_8.pth\n",
      "loading from simple_FC_7.pth\n",
      "Saving..\n",
      "classification error reaches 0, stop training\n",
      "Training Loss: 0.010 | Acc: 97.250%\n",
      "Test Loss: 0.036 | Acc: 81.060%\n",
      "\n",
      "Number of parameters: 12730\n",
      "use previous checkpoints to initialize the weights\n",
      "loading from simple_FC_15.pth\n",
      "loading from simple_FC_14.pth\n",
      "loading from simple_FC_13.pth\n",
      "loading from simple_FC_12.pth\n",
      "Saving..\n",
      "classification error reaches 0, stop training\n",
      "Training Loss: 0.006 | Acc: 98.000%\n",
      "Test Loss: 0.039 | Acc: 79.970%\n",
      "\n",
      "Number of parameters: 16705\n",
      "use previous checkpoints to initialize the weights\n",
      "loading from simple_FC_20.pth\n",
      "loading from simple_FC_19.pth\n",
      "loading from simple_FC_18.pth\n",
      "loading from simple_FC_17.pth\n",
      "Saving..\n",
      "classification error reaches 0, stop training\n",
      "Training Loss: 0.004 | Acc: 98.100%\n",
      "Test Loss: 0.044 | Acc: 78.580%\n",
      "\n",
      "Number of parameters: 20680\n",
      "Saving..\n",
      "classification error reaches 0, stop training\n",
      "Training Loss: 0.005 | Acc: 98.250%\n",
      "Test Loss: 0.029 | Acc: 86.690%\n",
      "\n",
      "Number of parameters: 24655\n",
      "Saving..\n",
      "classification error reaches 0, stop training\n",
      "Training Loss: 0.005 | Acc: 98.500%\n",
      "Test Loss: 0.031 | Acc: 85.420%\n",
      "\n",
      "Number of parameters: 28630\n",
      "Saving..\n",
      "classification error reaches 0, stop training\n",
      "Training Loss: 0.004 | Acc: 98.950%\n",
      "Test Loss: 0.028 | Acc: 86.660%\n",
      "\n",
      "Number of parameters: 32605\n",
      "Saving..\n",
      "classification error reaches 0, stop training\n",
      "Training Loss: 0.004 | Acc: 99.150%\n",
      "Test Loss: 0.027 | Acc: 87.440%\n",
      "\n",
      "Number of parameters: 36580\n",
      "Saving..\n",
      "classification error reaches 0, stop training\n",
      "Training Loss: 0.004 | Acc: 98.850%\n",
      "Test Loss: 0.027 | Acc: 87.040%\n",
      "\n"
     ]
    }
   ],
   "source": [
    "\n",
    "device = 'cuda' if torch.cuda.is_available() else 'cpu'\n",
    "\n",
    "# Data: no data augmentation is used\n",
    "print('==> Preparing data..')\n",
    "my_transform = transforms.Compose([\n",
    "    transforms.ToTensor(),\n",
    "])\n",
    "\n",
    "\n",
    "trainset = torchvision.datasets.MNIST(\n",
    "    root=data_path, train=True, download=True, transform=my_transform)\n",
    "trainset = torch.utils.data.Subset(trainset, indices=np.arange(2000))\n",
    "trainloader = torch.utils.data.DataLoader(\n",
    "    trainset, batch_size=500, shuffle=True, num_workers=4)\n",
    "\n",
    "testset = torchvision.datasets.MNIST(\n",
    "    root=data_path, train=False, download=True, transform=my_transform)\n",
    "testloader = torch.utils.data.DataLoader(\n",
    "    testset, batch_size=100, shuffle=False, num_workers=4)\n",
    "\n",
    "n_hidden_units = [i for i in range(1, 50, 5)]\n",
    "n_epoch = 6000\n",
    "\n",
    "for n_hidden_unit in n_hidden_units:\n",
    "    # Model\n",
    "    net = simple_FC(n_hidden_unit)\n",
    "    print('Number of parameters: %d'%sum(p.numel() for p in net.parameters()))\n",
    "    net = net.cuda()\n",
    "    net = net.to(device)\n",
    "    if device == 'cuda':\n",
    "        net = net.cuda()\n",
    "        cudnn.benchmark = True\n",
    "    ### initialization\n",
    "    if n_hidden_unit == 1: # smallest network\n",
    "        torch.nn.init.xavier_uniform_(net.features[1].weight, gain=1.0)\n",
    "        torch.nn.init.xavier_uniform_(net.classifier.weight, gain=1.0)\n",
    "    elif n_hidden_unit > 25: # interpolation point: Number of data (4000) * number of class (10) = number of parameters (50*784 + 50 + 50*10 + 10)\n",
    "        torch.nn.init.normal_(net.features[1].weight, mean=0.0, std=0.1)\n",
    "        torch.nn.init.normal_(net.classifier.weight, mean=0.0, std=0.1)\n",
    "    else: \n",
    "        torch.nn.init.normal_(net.features[1].weight, mean=0.0, std=0.1)\n",
    "        torch.nn.init.normal_(net.classifier.weight, mean=0.0, std=0.1)\n",
    "        print('use previous checkpoints to initialize the weights')\n",
    "        i = 1 # load the closest previous model for weight reuse\n",
    "        while not os.path.exists(os.path.join(checkpoint_path, 'simple_FC_%d.pth'%(n_hidden_unit-i))):\n",
    "            print('loading from simple_FC_%d.pth'%(n_hidden_unit-i))\n",
    "            i += 1\n",
    "        checkpoint = torch.load(os.path.join(checkpoint_path, 'simple_FC_%d.pth'%(n_hidden_unit-i)))\n",
    "        with torch.no_grad():\n",
    "            net.features[1].weight[:n_hidden_unit-i, :].copy_(checkpoint['net']['features.1.weight'])\n",
    "            net.features[1].bias[:n_hidden_unit-i].copy_(checkpoint['net']['features.1.bias'])\n",
    "            net.classifier.weight[:, :n_hidden_unit-i].copy_(checkpoint['net']['classifier.weight'])\n",
    "            net.classifier.bias.copy_(checkpoint['net']['classifier.bias'])\n",
    "            \n",
    "    ### training and testing\n",
    "    best_acc = 0\n",
    "    start_epoch = 0\n",
    "    criterion = nn.MSELoss()\n",
    "    optimizer = optim.SGD(net.parameters(), lr=0.01, momentum=0.95)\n",
    "    for epoch in range(start_epoch, start_epoch+n_epoch):\n",
    "        if (epoch+1) % 500 == 0:\n",
    "            if n_hidden_unit <= 25: # learning rate schedule\n",
    "                optimizer.param_groups[0]['lr'] = optimizer.param_groups[0]['lr'] * 0.9\n",
    "        train_acc, train_loss = train(epoch, net)\n",
    "        if n_hidden_unit <= 25 and train_acc == 1 or epoch == start_epoch+n_epoch-1: # early stop before interpolation\n",
    "            test_acc, test_loss = test(epoch, net, 'simple_FC_%d'%(n_hidden_unit), save_checkpoint=True)\n",
    "            print('classification error reaches 0, stop training')\n",
    "            break\n",
    "    print('Training Loss: %.3f | Acc: %.3f%%' % (train_loss, train_acc))\n",
    "    print('Test Loss: %.3f | Acc: %.3f%%\\n' % (test_loss, test_acc))\n",
    "    with open(os.path.join(log_path, 'FC_%d.txt'%n_hidden_unit), 'w') as fw:\n",
    "        fw.write('Number of parameters: %d\\n'%sum(p.numel() for p in net.parameters()))\n",
    "        fw.write('Training Loss: %.3f | Acc: %.3f%%\\n' % (train_loss, train_acc))\n",
    "        fw.write('Test Loss: %.3f | Acc: %.3f%%\\n' % (test_loss, test_acc))\n",
    "\n",
    "\n",
    "\n",
    "model_names = sorted([int(fn.split('_')[1].split('.')[0]) for fn in os.listdir(log_path)])\n",
    "\n",
    "train_losses = {model_name:0. for model_name in model_names}\n",
    "test_losses = {model_name:0. for model_name in model_names}\n",
    "train_accs = {model_name:0. for model_name in model_names}\n",
    "test_accs = {model_name:0. for model_name in model_names}\n",
    "n_params = {model_name:0. for model_name in model_names}\n",
    "\n",
    "for model_name in model_names:\n",
    "    with open(os.path.join(log_path, 'FC_%d.txt'%(model_name))) as f:\n",
    "        for line in f:\n",
    "            if line.startswith('Number'):\n",
    "                n_params[model_name] = float(line.rstrip().split()[-1])\n",
    "            if line.startswith('Training'):\n",
    "                loss = re.search(r'Loss: (.*?) \\|', line).group(1)\n",
    "                train_losses[model_name] = float(loss)\n",
    "                acc = re.search(r'Acc: (.*?)\\%', line).group(1)\n",
    "                train_accs[model_name] = float(acc)\n",
    "            if line.startswith('Test'):\n",
    "                loss = re.search(r'Loss: (.*?) \\|', line).group(1)\n",
    "                test_losses[model_name] = float(loss)\n",
    "                acc = re.search(r'Acc: (.*?)\\%', line).group(1)\n",
    "                test_accs[model_name] = float(acc)\n",
    "\n"
   ]
  },
  {
   "cell_type": "code",
   "execution_count": 7,
   "id": "be15a1a5",
   "metadata": {},
   "outputs": [
    {
     "data": {
      "text/plain": [
       "<Figure size 640x480 with 0 Axes>"
      ]
     },
     "metadata": {},
     "output_type": "display_data"
    },
    {
     "data": {
      "image/png": "[encoded data removed]",
      "text/plain": [
       "<Figure size 640x480 with 1 Axes>"
      ]
     },
     "metadata": {},
     "output_type": "display_data"
    },
    {
     "data": {
      "text/plain": [
       "<Figure size 640x480 with 0 Axes>"
      ]
     },
     "metadata": {},
     "output_type": "display_data"
    },
    {
     "data": {
      "image/png": "[encoded data removed]",
      "text/plain": [
       "<Figure size 640x480 with 1 Axes>"
      ]
     },
     "metadata": {},
     "output_type": "display_data"
    }
   ],
   "source": [
    "plt.clf()\n",
    "fig = plt.figure()\n",
    "ax = plt.subplot(111)\n",
    "plt.plot([n_params[model_name] for model_name in model_names], [train_losses[model_name] for model_name in model_names], marker='o', label='train', color='#e31a1c')\n",
    "plt.plot([n_params[model_name] for model_name in model_names], [test_losses[model_name] for model_name in model_names], marker='o', label='test', color='#1f78b4')\n",
    "plt.ylabel('loss')\n",
    "box = ax.get_position()\n",
    "plt.tight_layout()\n",
    "ax.set_position([box.x0, box.y0,\n",
    "             box.width, box.height * 0.9])\n",
    "plt.legend(loc='upper center', bbox_to_anchor=(0.5, 1.25), fancybox=True, ncol=4)\n",
    "plt.show()\n",
    "plt.clf()\n",
    "fig = plt.figure()\n",
    "ax = plt.subplot(111)\n",
    "plt.plot([n_params[model_name] for model_name in model_names], [train_accs[model_name] for model_name in model_names], marker='o', label='train', color='#e31a1c')\n",
    "plt.plot([n_params[model_name] for model_name in model_names], [test_accs[model_name] for model_name in model_names], marker='o', label='test', color='#1f78b4')\n",
    "plt.ylabel('accuracy')\n",
    "box = ax.get_position()\n",
    "plt.tight_layout()\n",
    "ax.set_position([box.x0, box.y0,\n",
    "             box.width, box.height * 0.9])\n",
    "plt.legend(loc='upper center', bbox_to_anchor=(0.5, 1.25), fancybox=True, ncol=4)\n",
    "plt.show()"
   ]
  }
 ],
 "metadata": {
  "kernelspec": {
   "display_name": "Python 3 (ipykernel)",
   "language": "python",
   "name": "python3"
  },
  "language_info": {
   "codemirror_mode": {
    "name": "ipython",
    "version": 3
   },
   "file_extension": ".py",
   "mimetype": "text/x-python",
   "name": "python",
   "nbconvert_exporter": "python",
   "pygments_lexer": "ipython3",
   "version": "3.9.13"
  }
 },
 "nbformat": 4,
 "nbformat_minor": 5
}
