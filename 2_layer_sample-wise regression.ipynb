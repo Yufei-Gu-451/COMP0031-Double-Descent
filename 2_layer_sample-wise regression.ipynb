{
 "cells": [
  {
   "cell_type": "code",
   "execution_count": 1,
   "id": "b8363d4a",
   "metadata": {},
   "outputs": [],
   "source": [
    "from sklearn.datasets import make_regression\n",
    "from sklearn.model_selection import train_test_split\n",
    "import matplotlib.pyplot as plt\n",
    "import torch\n",
    "import torch.nn as nn\n",
    "from torch.utils.data import Dataset, DataLoader\n",
    "import numpy as np"
   ]
  },
  {
   "cell_type": "code",
   "execution_count": 2,
   "id": "7159518e",
   "metadata": {},
   "outputs": [
    {
     "name": "stdout",
     "output_type": "stream",
     "text": [
      "Using device: cuda\n"
     ]
    }
   ],
   "source": [
    "# setting device on GPU if available, else CPU\n",
    "device = torch.device('cuda' if torch.cuda.is_available() else 'cpu')\n",
    "print('Using device:', device)"
   ]
  },
  {
   "cell_type": "code",
   "execution_count": 3,
   "id": "1cbd86dd",
   "metadata": {},
   "outputs": [],
   "source": [
    "def generate_samples(n, train_split):\n",
    "    np.random.seed(42)\n",
    "    X = np.random.uniform(-1, 1, (n, 1))\n",
    "    train_N = int(n * train_split)\n",
    "    y = np.sin(3 * np.pi * X) + 0.1 * np.random.randn(n, 1)\n",
    "    X_train, y_train = X[:train_N], y[:train_N]\n",
    "    X_test, y_test = X[train_N:], y[train_N:]\n",
    "    \n",
    "    X_train = torch.from_numpy(X_train).float().to(device)\n",
    "    y_train = torch.from_numpy(y_train).float().to(device)\n",
    "    X_test = torch.from_numpy(X_test).float().to(device)\n",
    "    y_test = torch.from_numpy(y_test).float().to(device)\n",
    "\n",
    "    return X_train, X_test, y_train, y_test"
   ]
  },
  {
   "cell_type": "code",
   "execution_count": 4,
   "id": "89d98570",
   "metadata": {},
   "outputs": [],
   "source": [
    "class Net(torch.nn.Module):\n",
    "    def __init__(self):\n",
    "        super(Net, self).__init__()\n",
    "        self.fc1 = torch.nn.Linear(1, 1000)\n",
    "        self.fc2 = torch.nn.Linear(1000, 1000)\n",
    "        self.fc3 = torch.nn.Linear(1000, 1)\n",
    "    \n",
    "    def forward(self, x):\n",
    "        x = torch.relu(self.fc1(x))\n",
    "        x = torch.relu(self.fc2(x))\n",
    "        x = self.fc3(x)\n",
    "        return x"
   ]
  },
  {
   "cell_type": "code",
   "execution_count": 5,
   "id": "1b419fdc",
   "metadata": {},
   "outputs": [],
   "source": [
    "def train_and_evaluate_model(model, sample_size, optimizer, criterion):\n",
    "    X_train, X_test, y_train, y_test = generate_samples(sample_size, 0.8)\n",
    "    train_losses = []\n",
    "    test_losses = []\n",
    "    for epoch in range(500):\n",
    "        optimizer.zero_grad()\n",
    "        outputs = model(X_train)\n",
    "        loss = criterion(outputs, y_train)\n",
    "        loss.backward()\n",
    "        optimizer.step()\n",
    "        train_losses.append(loss.item())\n",
    "\n",
    "        with torch.no_grad():\n",
    "            outputs = model(X_test)\n",
    "            test_loss = criterion(outputs, y_test)\n",
    "            test_losses.append(test_loss.item())\n",
    "\n",
    "    return test_losses[-1]"
   ]
  },
  {
   "cell_type": "code",
   "execution_count": null,
   "id": "fdeae606",
   "metadata": {},
   "outputs": [],
   "source": [
    "sample_sizes = [i for i in range (10, 3000)]\n",
    "test_mses = []\n",
    "for sample_size in sample_sizes:\n",
    "    model = Net()\n",
    "    model = model.to(device)\n",
    "    optimizer =  torch.optim.SGD(model.parameters(), lr=0.01)\n",
    "    criterion = torch.nn.MSELoss()\n",
    "    test_mse = train_and_evaluate_model(model, sample_size, optimizer, criterion)\n",
    "    test_mses.append(test_mse)"
   ]
  },
  {
   "cell_type": "code",
   "execution_count": null,
   "id": "8b3f7730",
   "metadata": {},
   "outputs": [],
   "source": [
    "plt.plot(sample_sizes, test_mses)\n",
    "plt.xlabel('No. Samples')\n",
    "plt.ylabel('Test MSE')\n",
    "plt.show()\n"
   ]
  },
  {
   "cell_type": "code",
   "execution_count": null,
   "id": "744f4a61",
   "metadata": {},
   "outputs": [],
   "source": []
  }
 ],
 "metadata": {
  "kernelspec": {
   "display_name": "Python 3 (ipykernel)",
   "language": "python",
   "name": "python3"
  },
  "language_info": {
   "codemirror_mode": {
    "name": "ipython",
    "version": 3
   },
   "file_extension": ".py",
   "mimetype": "text/x-python",
   "name": "python",
   "nbconvert_exporter": "python",
   "pygments_lexer": "ipython3",
   "version": "3.10.8"
  }
 },
 "nbformat": 4,
 "nbformat_minor": 5
}
