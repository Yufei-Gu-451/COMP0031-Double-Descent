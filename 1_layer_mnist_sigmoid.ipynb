{
 "cells": [
  {
   "cell_type": "code",
   "execution_count": 1,
   "id": "900d39de",
   "metadata": {},
   "outputs": [],
   "source": [
    "import torchvision.datasets as datasets\n",
    "import torch\n",
    "import torch.nn as nn\n",
    "import torchvision.transforms as transforms\n",
    "import matplotlib.pyplot as plt\n",
    "from torch.utils.data import Subset\n",
    "import torch.nn.functional as F\n",
    "from livelossplot import PlotLosses"
   ]
  },
  {
   "cell_type": "code",
   "execution_count": 2,
   "id": "bb8bed93",
   "metadata": {},
   "outputs": [
    {
     "name": "stdout",
     "output_type": "stream",
     "text": [
      "Using device: cuda\n"
     ]
    }
   ],
   "source": [
    "# setting device on GPU if available, else CPU\n",
    "device = torch.device('cuda' if torch.cuda.is_available() else 'cpu')\n",
    "print('Using device:', device)\n"
   ]
  },
  {
   "cell_type": "code",
   "execution_count": 3,
   "id": "613571c8",
   "metadata": {},
   "outputs": [],
   "source": [
    "my_transform = transforms.Compose(\n",
    "    [transforms.ToTensor(),\n",
    "     transforms.Normalize((0.5,), (0.5,))])\n",
    "\n",
    "trainset = datasets.MNIST(root='./data', train=True,\n",
    "                                        download=True, transform = my_transform)\n",
    "indices = torch.randperm(len(trainset))[:3985]\n",
    "trainset = Subset(trainset, indices)\n",
    "\n",
    "trainloader = torch.utils.data.DataLoader(trainset, batch_size=1,\n",
    "                                          shuffle=True, num_workers=0)\n",
    "\n",
    "\n",
    "testset = datasets.MNIST(root='./data', train=False,\n",
    "                                       download=True, transform=my_transform)\n",
    "\n",
    "testloader = torch.utils.data.DataLoader(testset, batch_size=1,\n",
    "                                         shuffle=False, num_workers=0)"
   ]
  },
  {
   "cell_type": "code",
   "execution_count": 4,
   "id": "6f514451",
   "metadata": {},
   "outputs": [],
   "source": [
    "class Net(torch.nn.Module):\n",
    "    def __init__(self, hidden_units):\n",
    "        super(Net, self).__init__()\n",
    "        self.layer1 = torch.nn.Linear(28*28, hidden_units)\n",
    "        self.layer2 = torch.nn.Linear(hidden_units, 10)\n",
    "        \n",
    "        \n",
    "    def forward(self, x):\n",
    "        x = x.view(-1, 28*28)\n",
    "        x = torch.relu(self.layer1(x))\n",
    "        x = torch.sigmoid(self.layer2(x))\n",
    "        return x"
   ]
  },
  {
   "cell_type": "code",
   "execution_count": 5,
   "id": "42a7d33e",
   "metadata": {},
   "outputs": [],
   "source": [
    "def train_and_evaluate_model(model, hidden_units, optimizer, criterion):\n",
    "    train_losses = []\n",
    "    test_losses = []\n",
    "    test_accs = []\n",
    "    model = model.to(device)\n",
    "    for epoch in range(1000):\n",
    "        train_loss = 0.0\n",
    "        model.train()\n",
    "        for data in trainloader:\n",
    "            inputs, labels = data\n",
    "            inputs = inputs.to(device)\n",
    "            labels = labels.to(device)\n",
    "            optimizer.zero_grad()\n",
    "            outputs = model(inputs)            \n",
    "            loss = criterion(outputs.float(), F.one_hot(labels, num_classes=10).float())\n",
    "            loss.backward()\n",
    "            optimizer.step()\n",
    "\n",
    "            train_loss += loss.item()\n",
    "        train_losses.append(train_loss/len(trainloader))\n",
    "\n",
    "    model.eval()\n",
    "    test_loss = 0.0\n",
    "    with torch.no_grad():\n",
    "        for inputs, labels in testloader:\n",
    "            inputs = inputs.to(device)\n",
    "            labels = labels.to(device)\n",
    "            outputs = model(inputs)\n",
    "            loss = criterion(outputs.float(), F.one_hot(labels, num_classes=10).float())\n",
    "            test_loss += loss.item()\n",
    "    test_losses.append(test_loss/len(testloader))\n",
    "\n",
    "    return train_losses[-1], test_losses[-1]"
   ]
  },
  {
   "cell_type": "code",
   "execution_count": null,
   "id": "3501d66f",
   "metadata": {},
   "outputs": [
    {
     "data": {
      "image/png": "[encoded data removed]",
      "text/plain": [
       "<Figure size 1200x800 with 2 Axes>"
      ]
     },
     "metadata": {},
     "output_type": "display_data"
    },
    {
     "name": "stdout",
     "output_type": "stream",
     "text": [
      "Test loss\n",
      "\tTest loss        \t (min:    0.082, max:    0.082, cur:    0.082)\n"
     ]
    }
   ],
   "source": [
    "hidden_units_list = [i for i in range(1, 15)]\n",
    "train_losses = []\n",
    "test_losses = []\n",
    "liveloss = PlotLosses()\n",
    "\n",
    "for hidden_units in hidden_units_list:\n",
    "    model = Net(hidden_units)\n",
    "    optimizer = torch.optim.SGD(model.parameters(), lr=0.01)\n",
    "    criterion = torch.nn.MSELoss()\n",
    "    train_loss, test_loss = train_and_evaluate_model(model, hidden_units, optimizer, criterion)\n",
    "    train_losses.append(train_loss)\n",
    "    test_losses.append(test_loss)\n",
    "    liveloss.update({\"Test loss\": test_loss})\n",
    "    liveloss.send()\n",
    "plt.plot(hidden_units_list, train_losses, marker='o', label='train')\n",
    "plt.plot(hidden_units_list, test_losses, marker='o', label='test')\n",
    "plt.xlabel('Hidden units')\n",
    "plt.ylabel('mse test loss')\n",
    "plt.title('Double Descent Curve')\n",
    "plt.legend()\n",
    "\n",
    "plt.show()"
   ]
  },
  {
   "cell_type": "code",
   "execution_count": null,
   "id": "257c4713",
   "metadata": {},
   "outputs": [],
   "source": []
  }
 ],
 "metadata": {
  "kernelspec": {
   "display_name": "Python 3 (ipykernel)",
   "language": "python",
   "name": "python3"
  },
  "language_info": {
   "codemirror_mode": {
    "name": "ipython",
    "version": 3
   },
   "file_extension": ".py",
   "mimetype": "text/x-python",
   "name": "python",
   "nbconvert_exporter": "python",
   "pygments_lexer": "ipython3",
   "version": "3.10.8"
  }
 },
 "nbformat": 4,
 "nbformat_minor": 5
}
