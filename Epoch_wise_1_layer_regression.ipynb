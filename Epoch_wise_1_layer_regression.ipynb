{
 "cells": [
  {
   "cell_type": "code",
   "execution_count": 9,
   "id": "10a8ae91",
   "metadata": {},
   "outputs": [],
   "source": [
    "from sklearn.datasets import make_regression\n",
    "from sklearn.model_selection import train_test_split\n",
    "import matplotlib.pyplot as plt\n",
    "import torch\n",
    "import torch.nn as nn\n",
    "from torch.utils.data import Dataset, DataLoader\n",
    "import numpy as np"
   ]
  },
  {
   "cell_type": "code",
   "execution_count": 10,
   "id": "62b69056",
   "metadata": {},
   "outputs": [
    {
     "name": "stdout",
     "output_type": "stream",
     "text": [
      "Using device: cuda\n"
     ]
    }
   ],
   "source": [
    "# setting device on GPU if available, else CPU\n",
    "device = torch.device('cuda' if torch.cuda.is_available() else 'cpu')\n",
    "print('Using device:', device)"
   ]
  },
  {
   "cell_type": "code",
   "execution_count": 11,
   "id": "d4756a2b",
   "metadata": {},
   "outputs": [],
   "source": [
    "np.random.seed(42)\n",
    "n_samples = 1000\n",
    "X = np.random.uniform(-1, 1, (n_samples, 1))\n",
    "y = np.sin(3 * np.pi * X) + 0.1 * np.random.randn(n_samples, 1)\n",
    "X_train, y_train = X[:800], y[:800]\n",
    "X_test, y_test = X[800:], y[800:]"
   ]
  },
  {
   "cell_type": "code",
   "execution_count": 12,
   "id": "96d59a9d",
   "metadata": {},
   "outputs": [],
   "source": [
    "X_train = torch.from_numpy(X_train).float().to(device)\n",
    "y_train = torch.from_numpy(y_train).float().to(device)\n",
    "X_test = torch.from_numpy(X_test).float().to(device)\n",
    "y_test = torch.from_numpy(y_test).float().to(device)"
   ]
  },
  {
   "cell_type": "code",
   "execution_count": 13,
   "id": "b9b12703",
   "metadata": {},
   "outputs": [],
   "source": [
    "class Net(torch.nn.Module):\n",
    "    def __init__(self):\n",
    "        super(Net, self).__init__()\n",
    "        self.layer1 = torch.nn.Linear(1, 100)\n",
    "        self.layer2 = torch.nn.Linear(100, 1)\n",
    "    \n",
    "    def forward(self, x):\n",
    "        x = torch.relu(self.layer1(x))\n",
    "        x = self.layer2(x)\n",
    "        return x"
   ]
  },
  {
   "cell_type": "code",
   "execution_count": 14,
   "id": "c850da2e",
   "metadata": {},
   "outputs": [],
   "source": [
    "def train_and_evaluate(model, epochs, optimizer, criterion):\n",
    "    train_losses = []\n",
    "    test_losses = []\n",
    "    for epoch in range(epochs):\n",
    "        optimizer.zero_grad()\n",
    "        outputs = model(X_train)\n",
    "        loss = criterion(outputs, y_train)\n",
    "        loss.backward()\n",
    "        optimizer.step()\n",
    "        train_losses.append(loss.item())\n",
    "\n",
    "        with torch.no_grad():\n",
    "            outputs = model(X_test)\n",
    "            test_loss = criterion(outputs, y_test)\n",
    "            test_losses.append(test_loss.item())\n",
    "\n",
    "    return test_losses[-1]"
   ]
  },
  {
   "cell_type": "code",
   "execution_count": null,
   "id": "752d7118",
   "metadata": {},
   "outputs": [],
   "source": [
    "n_epochs = [i for i in range(10, 2000, 2)]\n",
    "test_mses = []\n",
    "for epochs in n_epochs:\n",
    "    model = Net()\n",
    "    model = model.to(device)\n",
    "    optimizer =  torch.optim.SGD(model.parameters(), lr=0.01)\n",
    "    criterion = torch.nn.MSELoss()\n",
    "    \n",
    "    test_mse = train_and_evaluate(model, epochs, optimizer, criterion)\n",
    "    test_mses.append(test_mse)\n",
    "    \n",
    "plt.plot(n_epochs, test_mses, '-o')\n",
    "plt.xlabel('No. Samples')\n",
    "plt.ylabel('Test MSE')\n",
    "plt.show()"
   ]
  },
  {
   "cell_type": "code",
   "execution_count": null,
   "id": "49d05d79",
   "metadata": {},
   "outputs": [],
   "source": []
  }
 ],
 "metadata": {
  "kernelspec": {
   "display_name": "Python 3 (ipykernel)",
   "language": "python",
   "name": "python3"
  },
  "language_info": {
   "codemirror_mode": {
    "name": "ipython",
    "version": 3
   },
   "file_extension": ".py",
   "mimetype": "text/x-python",
   "name": "python",
   "nbconvert_exporter": "python",
   "pygments_lexer": "ipython3",
   "version": "3.10.8"
  }
 },
 "nbformat": 4,
 "nbformat_minor": 5
}
