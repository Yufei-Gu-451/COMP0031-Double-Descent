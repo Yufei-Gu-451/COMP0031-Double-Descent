{
 "cells": [
  {
   "cell_type": "code",
   "execution_count": 1,
   "id": "ca94b2f1",
   "metadata": {
    "scrolled": true
   },
   "outputs": [],
   "source": [
    "import torch\n",
    "import torch.nn as nn\n",
    "import numpy as np\n",
    "import matplotlib.pyplot as plt"
   ]
  },
  {
   "cell_type": "code",
   "execution_count": 2,
   "id": "b8ef809d",
   "metadata": {},
   "outputs": [
    {
     "name": "stdout",
     "output_type": "stream",
     "text": [
      "Using device: cuda\n"
     ]
    }
   ],
   "source": [
    "# setting device on GPU if available, else CPU\n",
    "device = torch.device('cuda' if torch.cuda.is_available() else 'cpu')\n",
    "print('Using device:', device)"
   ]
  },
  {
   "cell_type": "code",
   "execution_count": 3,
   "id": "38f7a751",
   "metadata": {},
   "outputs": [],
   "source": [
    "#80% train test split\n",
    "np.random.seed(42)\n",
    "n_samples = 1000\n",
    "X = np.random.uniform(-1, 1, (n_samples, 1))\n",
    "y = np.sin(3 * np.pi * X) + 0.1 * np.random.randn(n_samples, 1)\n",
    "X_train, y_train = X[:800], y[:800]\n",
    "X_test, y_test = X[800:], y[800:]\n"
   ]
  },
  {
   "cell_type": "code",
   "execution_count": 4,
   "id": "dfebae1c",
   "metadata": {},
   "outputs": [],
   "source": [
    "X_train = torch.from_numpy(X_train).float().to(device)\n",
    "y_train = torch.from_numpy(y_train).float().to(device)\n",
    "X_test = torch.from_numpy(X_test).float().to(device)\n",
    "y_test = torch.from_numpy(y_test).float().to(device)\n"
   ]
  },
  {
   "cell_type": "code",
   "execution_count": 5,
   "id": "5bbe2155",
   "metadata": {},
   "outputs": [],
   "source": [
    "class Net(torch.nn.Module):\n",
    "    def __init__(self, hidden_units):\n",
    "        super(Net, self).__init__()\n",
    "        self.fc1 = torch.nn.Linear(1, hidden_units)\n",
    "        self.fc2 = torch.nn.Linear(hidden_units, hidden_units)\n",
    "        self.fc3 = torch.nn.Linear(hidden_units, 1)\n",
    "    \n",
    "    def forward(self, x):\n",
    "        x = torch.relu(self.fc1(x))\n",
    "        x = torch.relu(self.fc2(x))\n",
    "        x = self.fc3(x)\n",
    "        return x\n"
   ]
  },
  {
   "cell_type": "code",
   "execution_count": 6,
   "id": "2226a755",
   "metadata": {},
   "outputs": [],
   "source": [
    "def train_and_evaluate_model(model, hidden_units, optimizer, criterion):\n",
    "    train_losses = []\n",
    "    test_losses = []\n",
    "    for epoch in range(1000):\n",
    "        optimizer.zero_grad()\n",
    "        outputs = model(X_train)\n",
    "        loss = criterion(outputs, y_train)\n",
    "        loss.backward()\n",
    "        optimizer.step()\n",
    "        train_losses.append(loss.item())\n",
    "\n",
    "        with torch.no_grad():\n",
    "            outputs = model(X_test)\n",
    "            test_loss = criterion(outputs, y_test)\n",
    "            test_losses.append(test_loss.item())\n",
    "\n",
    "    return test_losses[-1]"
   ]
  },
  {
   "cell_type": "code",
   "execution_count": null,
   "id": "496d7ade",
   "metadata": {},
   "outputs": [],
   "source": [
    "hidden_units_list = [i for i in range(1, 8192, 10)]\n",
    "test_mses = []\n",
    "for hidden_units in hidden_units_list:\n",
    "    model = Net(hidden_units)\n",
    "    model = model.to(device)\n",
    "    optimizer = torch.optim.SGD(model.parameters(), lr=0.01)\n",
    "    criterion = torch.nn.MSELoss()\n",
    "    test_mse = train_and_evaluate_model(model, hidden_units, optimizer, criterion)\n",
    "    test_mses.append(test_mse)\n",
    "\n",
    "plt.plot(hidden_units_list, test_mses, '-o')\n",
    "plt.xscale('log')\n",
    "plt.xlabel('Number of Hidden Units')\n",
    "plt.ylabel('Test MSE')\n",
    "plt.show()\n"
   ]
  },
  {
   "cell_type": "code",
   "execution_count": null,
   "id": "1a723727",
   "metadata": {},
   "outputs": [],
   "source": []
  }
 ],
 "metadata": {
  "kernelspec": {
   "display_name": "Python 3 (ipykernel)",
   "language": "python",
   "name": "python3"
  },
  "language_info": {
   "codemirror_mode": {
    "name": "ipython",
    "version": 3
   },
   "file_extension": ".py",
   "mimetype": "text/x-python",
   "name": "python",
   "nbconvert_exporter": "python",
   "pygments_lexer": "ipython3",
   "version": "3.10.8"
  }
 },
 "nbformat": 4,
 "nbformat_minor": 5
}
