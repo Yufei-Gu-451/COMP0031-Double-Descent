{
 "cells": [
  {
   "cell_type": "code",
   "execution_count": 1,
   "id": "4d5e6b4e",
   "metadata": {},
   "outputs": [],
   "source": [
    "from sklearn.neural_network import MLPClassifier\n",
    "from sklearn.datasets import make_classification\n",
    "from sklearn.model_selection import train_test_split\n",
    "import numpy as np\n",
    "import matplotlib.pyplot as plt"
   ]
  },
  {
   "cell_type": "code",
   "execution_count": 2,
   "id": "5a6d7378",
   "metadata": {},
   "outputs": [
    {
     "data": {
      "text/plain": [
       "((750, 10), (750,), (250, 10), (250,), array([0, 1]))"
      ]
     },
     "execution_count": 2,
     "metadata": {},
     "output_type": "execute_result"
    }
   ],
   "source": [
    "X, y = make_classification(n_samples=1000, n_features=10,random_state=42)\n",
    "X_train, X_test, y_train, y_test = train_test_split(X, y, stratify=y,\n",
    "                                                    random_state=42)\n",
    "\n",
    "X_train.shape, y_train.shape, X_test.shape, y_test.shape, np.unique(y_train)"
   ]
  },
  {
   "cell_type": "code",
   "execution_count": null,
   "id": "184c4c1c",
   "metadata": {
    "scrolled": true
   },
   "outputs": [],
   "source": [
    "hidden_units = [i for i in range(3, 6000)]\n",
    "test_losses = []\n",
    "for n in hidden_units:\n",
    "    clf = MLPClassifier(random_state=42, max_iter=10000, hidden_layer_sizes=(n,)).fit(X_train, y_train)\n",
    "    test_loss = 1 - clf.score(X_test,y_test)\n",
    "    test_losses.append(test_loss)"
   ]
  },
  {
   "cell_type": "code",
   "execution_count": null,
   "id": "4fd6aba0",
   "metadata": {
    "scrolled": true
   },
   "outputs": [],
   "source": [
    "plt.plot(hidden_units,test_losses)\n",
    "plt.show()"
   ]
  }
 ],
 "metadata": {
  "kernelspec": {
   "display_name": "Python 3 (ipykernel)",
   "language": "python",
   "name": "python3"
  },
  "language_info": {
   "codemirror_mode": {
    "name": "ipython",
    "version": 3
   },
   "file_extension": ".py",
   "mimetype": "text/x-python",
   "name": "python",
   "nbconvert_exporter": "python",
   "pygments_lexer": "ipython3",
   "version": "3.10.8"
  }
 },
 "nbformat": 4,
 "nbformat_minor": 5
}
